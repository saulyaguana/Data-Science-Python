{
 "cells": [
  {
   "cell_type": "code",
   "execution_count": 1,
   "metadata": {},
   "outputs": [],
   "source": [
    "import numpy as np"
   ]
  },
  {
   "cell_type": "markdown",
   "metadata": {},
   "source": [
    "An array can be represented by many dimensions, each dimension has different names"
   ]
  },
  {
   "cell_type": "code",
   "execution_count": 2,
   "metadata": {},
   "outputs": [
    {
     "name": "stdout",
     "output_type": "stream",
     "text": [
      "<class 'numpy.ndarray'>\n",
      "42\n"
     ]
    }
   ],
   "source": [
    "# Dimension 0 (escalar)\n",
    "escalar = np.array(42)\n",
    "print(type(escalar))\n",
    "print(escalar)"
   ]
  },
  {
   "cell_type": "code",
   "execution_count": 3,
   "metadata": {},
   "outputs": [
    {
     "name": "stdout",
     "output_type": "stream",
     "text": [
      "[29 27 33 31 38 42 38]\n"
     ]
    }
   ],
   "source": [
    "# Dimension 1 (vector)\n",
    "vector = np.array([29, 27, 33, 31, 38, 42, 38])\n",
    "print(vector)"
   ]
  },
  {
   "cell_type": "code",
   "execution_count": 4,
   "metadata": {},
   "outputs": [],
   "source": [
    "# Dimension 2 (Mtriz)\n",
    "matrix = np.array(\n",
    "    [\n",
    "        [24, 29, 11],\n",
    "        [25, 31, 33],\n",
    "        [27, 28, 34]\n",
    "    ]\n",
    ")"
   ]
  },
  {
   "cell_type": "code",
   "execution_count": 5,
   "metadata": {},
   "outputs": [
    {
     "name": "stdout",
     "output_type": "stream",
     "text": [
      "[[[   12    33    14    53]\n",
      "  [   56    23   124   525]\n",
      "  [   56   999  1345   234]]\n",
      "\n",
      " [[  452  1355  2353   124]\n",
      "  [  235   526   257   257]\n",
      "  [  368   461  4675  3256]]\n",
      "\n",
      " [[ 2357   235    46    23]\n",
      "  [  356   235   235     2]\n",
      "  [   35 56778  2356    32]]]\n",
      "3\n"
     ]
    }
   ],
   "source": [
    "tensor = np.array(\n",
    "    [\n",
    "        [\n",
    "            [12, 33, 14, 53],\n",
    "            [56, 23, 124, 525],\n",
    "            [56, 999, 1345, 234]\n",
    "        ],\n",
    "        [\n",
    "            [452, 1355, 2353, 124],\n",
    "            [235, 526, 257, 257],\n",
    "            [368, 461, 4675, 3256]\n",
    "        ],\n",
    "        [\n",
    "            [2357, 235, 46 ,23],\n",
    "            [356, 235, 235, 2],\n",
    "            [35, 56778, 2356, 32]\n",
    "        ]\n",
    "    ]\n",
    ")\n",
    "print(tensor)\n",
    "print(tensor.ndim)"
   ]
  },
  {
   "cell_type": "code",
   "execution_count": 6,
   "metadata": {},
   "outputs": [
    {
     "name": "stdout",
     "output_type": "stream",
     "text": [
      "[ 1  2  3  4  5  6  7  8  9 10]\n"
     ]
    }
   ],
   "source": [
    "array_arange = np.arange(1, 11)\n",
    "print(array_arange)"
   ]
  },
  {
   "cell_type": "code",
   "execution_count": 8,
   "metadata": {},
   "outputs": [
    {
     "name": "stdout",
     "output_type": "stream",
     "text": [
      "[[1. 0. 0. 0. 0. 0. 0.]\n",
      " [0. 1. 0. 0. 0. 0. 0.]\n",
      " [0. 0. 1. 0. 0. 0. 0.]\n",
      " [0. 0. 0. 1. 0. 0. 0.]\n",
      " [0. 0. 0. 0. 1. 0. 0.]\n",
      " [0. 0. 0. 0. 0. 1. 0.]\n",
      " [0. 0. 0. 0. 0. 0. 1.]]\n"
     ]
    }
   ],
   "source": [
    "eye_matrix = np.eye(7)\n",
    "print(eye_matrix)"
   ]
  },
  {
   "cell_type": "code",
   "execution_count": 9,
   "metadata": {},
   "outputs": [
    {
     "name": "stdout",
     "output_type": "stream",
     "text": [
      "[[34  0  0  0  0  0  0]\n",
      " [ 0 13  0  0  0  0  0]\n",
      " [ 0  0 56  0  0  0  0]\n",
      " [ 0  0  0 11  0  0  0]\n",
      " [ 0  0  0  0 90  0  0]\n",
      " [ 0  0  0  0  0  0  0]\n",
      " [ 0  0  0  0  0  0 14]]\n"
     ]
    }
   ],
   "source": [
    "diag = np.diag([34, 13, 56, 11, 90, 00, 14])\n",
    "print(diag)"
   ]
  },
  {
   "cell_type": "code",
   "execution_count": 11,
   "metadata": {},
   "outputs": [
    {
     "name": "stdout",
     "output_type": "stream",
     "text": [
      "[[0.88343133 0.32232126 0.00888487 0.94642684 0.65214303]\n",
      " [0.16356129 0.05717934 0.81520033 0.14604795 0.03700846]\n",
      " [0.44384989 0.05584747 0.2845577  0.6987445  0.16079799]\n",
      " [0.86032393 0.52574944 0.48935783 0.66011465 0.62873674]]\n"
     ]
    }
   ],
   "source": [
    "random = np.random.random([4, 5])\n",
    "print(random)"
   ]
  },
  {
   "cell_type": "code",
   "execution_count": null,
   "metadata": {},
   "outputs": [],
   "source": []
  }
 ],
 "metadata": {
  "kernelspec": {
   "display_name": "venv",
   "language": "python",
   "name": "python3"
  },
  "language_info": {
   "codemirror_mode": {
    "name": "ipython",
    "version": 3
   },
   "file_extension": ".py",
   "mimetype": "text/x-python",
   "name": "python",
   "nbconvert_exporter": "python",
   "pygments_lexer": "ipython3",
   "version": "3.12.4"
  }
 },
 "nbformat": 4,
 "nbformat_minor": 2
}
