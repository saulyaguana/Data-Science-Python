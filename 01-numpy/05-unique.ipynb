{
 "cells": [
  {
   "cell_type": "code",
   "execution_count": 1,
   "metadata": {},
   "outputs": [],
   "source": [
    "import numpy as np"
   ]
  },
  {
   "cell_type": "code",
   "execution_count": 9,
   "metadata": {},
   "outputs": [],
   "source": [
    "survey_responses = np.array(\n",
    "    [\n",
    "        \"bueno\", \"excelente\", \"malo\",\n",
    "        \"bueno\", \"malo\", \"excelente\",\n",
    "        \"bueno\", \"bueno\", \"malo\",\n",
    "        \"excelente\", \"excelente\", \"excelente\"\n",
    "    ]\n",
    ")"
   ]
  },
  {
   "cell_type": "code",
   "execution_count": 10,
   "metadata": {},
   "outputs": [
    {
     "name": "stdout",
     "output_type": "stream",
     "text": [
      "['bueno' 'excelente' 'malo']\n",
      "(array(['bueno', 'excelente', 'malo'], dtype='<U9'), array([4, 5, 3]))\n"
     ]
    }
   ],
   "source": [
    "print(np.unique(survey_responses))\n",
    "print(np.unique(survey_responses, return_counts=True))"
   ]
  },
  {
   "cell_type": "code",
   "execution_count": 11,
   "metadata": {},
   "outputs": [
    {
     "name": "stdout",
     "output_type": "stream",
     "text": [
      "[0 1 2 3 4 5 6 7 8 9]\n",
      "[1 2]\n"
     ]
    }
   ],
   "source": [
    "array_x = np.arange(10)\n",
    "view_y = array_x[1:3]\n",
    "\n",
    "print(array_x)\n",
    "print(view_y)"
   ]
  },
  {
   "cell_type": "code",
   "execution_count": 12,
   "metadata": {},
   "outputs": [
    {
     "name": "stdout",
     "output_type": "stream",
     "text": [
      "[ 0 10 11  3  4  5  6  7  8  9]\n",
      "[10 11]\n"
     ]
    }
   ],
   "source": [
    "array_x[1:3] = [10, 11]\n",
    "print(array_x)\n",
    "print(view_y)"
   ]
  },
  {
   "cell_type": "code",
   "execution_count": 14,
   "metadata": {},
   "outputs": [
    {
     "name": "stdout",
     "output_type": "stream",
     "text": [
      "[0 1 2 3 4 5 6 7 8 9]\n",
      "[1 2]\n",
      "[ 0 21 22  3  4  5  6  7  8  9]\n",
      "[1 2]\n"
     ]
    }
   ],
   "source": [
    "array_x2 = np.arange(10)\n",
    "copy_x2 = array_x2[[1, 2]]\n",
    "\n",
    "print(array_x2)\n",
    "print(copy_x2)\n",
    "\n",
    "array_x2[1:3] = [21, 22]\n",
    "\n",
    "print(array_x2)\n",
    "print(copy_x2)"
   ]
  }
 ],
 "metadata": {
  "kernelspec": {
   "display_name": "venv",
   "language": "python",
   "name": "python3"
  },
  "language_info": {
   "codemirror_mode": {
    "name": "ipython",
    "version": 3
   },
   "file_extension": ".py",
   "mimetype": "text/x-python",
   "name": "python",
   "nbconvert_exporter": "python",
   "pygments_lexer": "ipython3",
   "version": "3.12.4"
  }
 },
 "nbformat": 4,
 "nbformat_minor": 2
}
