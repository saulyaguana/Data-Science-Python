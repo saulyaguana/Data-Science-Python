{
 "cells": [
  {
   "cell_type": "code",
   "execution_count": 1,
   "metadata": {},
   "outputs": [],
   "source": [
    "import numpy as np"
   ]
  },
  {
   "cell_type": "code",
   "execution_count": 2,
   "metadata": {},
   "outputs": [],
   "source": [
    "months = np.array(\n",
    "    [\n",
    "        \"January\", \"February\", \"March\", \"April\", \"May\", \"June\",\n",
    "        \"July\", \"August\", \"September\", \"October\", \"November\", \"December\"\n",
    "    ]\n",
    ")\n",
    "\n",
    "product_A = np.array([150, 200, 250, 300, 220, 210, 180, 190, 230, 240, 280, 300])\n",
    "prodcut_B = np.array([180, 210, 230, 250, 270, 260, 240, 250, 270, 290, 310, 330])\n",
    "product_C = np.array([200, 220, 240, 260, 280, 300, 320, 340, 360, 380, 400, 420])"
   ]
  },
  {
   "cell_type": "code",
   "execution_count": 4,
   "metadata": {},
   "outputs": [
    {
     "name": "stdout",
     "output_type": "stream",
     "text": [
      "12 12 12 12\n"
     ]
    }
   ],
   "source": [
    "print(len(product_A), len(prodcut_B), len(product_C), len(months))"
   ]
  },
  {
   "cell_type": "code",
   "execution_count": 5,
   "metadata": {},
   "outputs": [
    {
     "name": "stdout",
     "output_type": "stream",
     "text": [
      "[[150 200 250 300 220 210 180 190 230 240 280 300]\n",
      " [180 210 230 250 270 260 240 250 270 290 310 330]\n",
      " [200 220 240 260 280 300 320 340 360 380 400 420]]\n"
     ]
    }
   ],
   "source": [
    "stacked_data = np.stack((product_A, prodcut_B, product_C))\n",
    "print(stacked_data)"
   ]
  },
  {
   "cell_type": "code",
   "execution_count": 8,
   "metadata": {},
   "outputs": [
    {
     "name": "stdout",
     "output_type": "stream",
     "text": [
      "The total sales for each product are A: 2750, B: 3090, C: 3720\n"
     ]
    }
   ],
   "source": [
    "# Total sales for each product\n",
    "total_sale_A = product_A.sum()\n",
    "total_sale_B = prodcut_B.sum()\n",
    "total_sale_C = product_C.sum()\n",
    "\n",
    "print(f\"The total sales for each product are A: {total_sale_A}, B: {total_sale_B}, C: {total_sale_C}\")"
   ]
  },
  {
   "cell_type": "code",
   "execution_count": 10,
   "metadata": {},
   "outputs": [
    {
     "name": "stdout",
     "output_type": "stream",
     "text": [
      "[ 530  630  720  810  770  770  740  780  860  910  990 1050]\n"
     ]
    }
   ],
   "source": [
    "# Sales per month\n",
    "month_sales = np.array([\n",
    "    stacked_data[::, 0].sum(), stacked_data[::, 1].sum(), stacked_data[::, 2].sum(),\n",
    "    stacked_data[::, 3].sum(), stacked_data[::, 4].sum(), stacked_data[::, 5].sum(),\n",
    "    stacked_data[::, 6].sum(), stacked_data[::, 7].sum(), stacked_data[::, 8].sum(),\n",
    "    stacked_data[::, 9].sum(), stacked_data[::, 10].sum(), stacked_data[::, 11].sum()\n",
    "])\n",
    "\n",
    "print(month_sales)"
   ]
  },
  {
   "cell_type": "code",
   "execution_count": 12,
   "metadata": {},
   "outputs": [
    {
     "name": "stdout",
     "output_type": "stream",
     "text": [
      "9560\n",
      "9560\n"
     ]
    }
   ],
   "source": [
    "# Sales per year\n",
    "print(stacked_data.sum())\n",
    "print(month_sales.sum())"
   ]
  }
 ],
 "metadata": {
  "kernelspec": {
   "display_name": "venv",
   "language": "python",
   "name": "python3"
  },
  "language_info": {
   "codemirror_mode": {
    "name": "ipython",
    "version": 3
   },
   "file_extension": ".py",
   "mimetype": "text/x-python",
   "name": "python",
   "nbconvert_exporter": "python",
   "pygments_lexer": "ipython3",
   "version": "3.12.4"
  }
 },
 "nbformat": 4,
 "nbformat_minor": 2
}
