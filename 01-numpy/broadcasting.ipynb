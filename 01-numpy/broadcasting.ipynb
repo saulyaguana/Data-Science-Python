{
 "cells": [
  {
   "cell_type": "code",
   "execution_count": 1,
   "metadata": {},
   "outputs": [],
   "source": [
    "import numpy as np"
   ]
  },
  {
   "cell_type": "code",
   "execution_count": 4,
   "metadata": {},
   "outputs": [
    {
     "name": "stdout",
     "output_type": "stream",
     "text": [
      "[ 90. 180. 270.]\n"
     ]
    }
   ],
   "source": [
    "prices = np.array([100, 200, 300])\n",
    "discount = np.array([0.9])\n",
    "\n",
    "discount_prices = prices * discount\n",
    "print(discount_prices)"
   ]
  },
  {
   "cell_type": "code",
   "execution_count": 6,
   "metadata": {},
   "outputs": [
    {
     "name": "stdout",
     "output_type": "stream",
     "text": [
      "[[468 419 201]\n",
      " [280 479 496]\n",
      " [396 181 124]]\n"
     ]
    }
   ],
   "source": [
    "prices2 = np.random.randint(100, 500, size=(3, 3))\n",
    "discount2 = np.array([10, 20, 30])\n",
    "\n",
    "print(prices2)"
   ]
  },
  {
   "cell_type": "code",
   "execution_count": 7,
   "metadata": {},
   "outputs": [
    {
     "name": "stdout",
     "output_type": "stream",
     "text": [
      "[[478 439 231]\n",
      " [290 499 526]\n",
      " [406 201 154]]\n"
     ]
    }
   ],
   "source": [
    "discount_prices2 = prices2 + discount2\n",
    "print(discount_prices2)"
   ]
  },
  {
   "cell_type": "code",
   "execution_count": 13,
   "metadata": {},
   "outputs": [
    {
     "name": "stdout",
     "output_type": "stream",
     "text": [
      "True\n",
      "True\n"
     ]
    }
   ],
   "source": [
    "# Logic ops\n",
    "array = np.arange(1, 6)\n",
    "print(np.all(array > -10))  # It means all values from array are grather than -10\n",
    "print(np.any(array > 4))  # It means if any value is grather than 4"
   ]
  },
  {
   "cell_type": "code",
   "execution_count": 14,
   "metadata": {},
   "outputs": [
    {
     "name": "stdout",
     "output_type": "stream",
     "text": [
      "[1 2 3 4 5 6]\n"
     ]
    }
   ],
   "source": [
    "# Concatenate one or more arrays to get only one\n",
    "array_a = np.arange(1, 4)\n",
    "array_b = np.arange(4, 7)\n",
    "\n",
    "concatenate = np.concat((array_a, array_b))\n",
    "print(concatenate)"
   ]
  },
  {
   "cell_type": "code",
   "execution_count": 18,
   "metadata": {},
   "outputs": [
    {
     "name": "stdout",
     "output_type": "stream",
     "text": [
      "[[1 2 3]\n",
      " [4 5 6]]\n",
      "\n",
      "[1 2 3 4 5 6]\n"
     ]
    }
   ],
   "source": [
    "# Stacking\n",
    "stacked_v = np.vstack((array_a, array_b))\n",
    "stacked_h = np.hstack((array_a, array_b))\n",
    "\n",
    "print(stacked_v)\n",
    "print()\n",
    "print(stacked_h)"
   ]
  },
  {
   "cell_type": "code",
   "execution_count": 21,
   "metadata": {},
   "outputs": [
    {
     "name": "stdout",
     "output_type": "stream",
     "text": [
      "[array([1, 2, 3, 4, 5]), array([ 6,  7,  8,  9, 10])]\n"
     ]
    }
   ],
   "source": [
    "# Split\n",
    "array_c = np.arange(1, 11)\n",
    "split_array = np.split(array_c, 2)  # Dividie arrays by 2 (in this case)\n",
    "\n",
    "print(split_array)"
   ]
  }
 ],
 "metadata": {
  "kernelspec": {
   "display_name": "venv",
   "language": "python",
   "name": "python3"
  },
  "language_info": {
   "codemirror_mode": {
    "name": "ipython",
    "version": 3
   },
   "file_extension": ".py",
   "mimetype": "text/x-python",
   "name": "python",
   "nbconvert_exporter": "python",
   "pygments_lexer": "ipython3",
   "version": "3.12.4"
  }
 },
 "nbformat": 4,
 "nbformat_minor": 2
}
