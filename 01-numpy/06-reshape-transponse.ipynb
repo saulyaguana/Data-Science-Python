{
 "cells": [
  {
   "cell_type": "code",
   "execution_count": 1,
   "metadata": {},
   "outputs": [],
   "source": [
    "import numpy as np"
   ]
  },
  {
   "cell_type": "code",
   "execution_count": 3,
   "metadata": {},
   "outputs": [
    {
     "name": "stdout",
     "output_type": "stream",
     "text": [
      "[[11 24 45]\n",
      " [90 77 81]\n",
      " [29 31 49]]\n",
      "\n",
      "[[11 90 29]\n",
      " [24 77 31]\n",
      " [45 81 49]]\n"
     ]
    }
   ],
   "source": [
    "matrix = np.array(\n",
    "    [\n",
    "        [11, 24, 45],\n",
    "        [90, 77, 81],\n",
    "        [29, 31, 49]\n",
    "    ]\n",
    ")\n",
    "transposed_matrix = matrix.T\n",
    "\n",
    "print(matrix)\n",
    "print()\n",
    "print(transposed_matrix)"
   ]
  },
  {
   "cell_type": "markdown",
   "metadata": {},
   "source": [
    "## Reshape\n",
    "\n",
    "change the shape of an array without change their data"
   ]
  },
  {
   "cell_type": "code",
   "execution_count": 4,
   "metadata": {},
   "outputs": [
    {
     "name": "stdout",
     "output_type": "stream",
     "text": [
      "[ 1  2  3  4  5  6  7  8  9 10 11 12]\n",
      "\n",
      "[[ 1  2  3  4]\n",
      " [ 5  6  7  8]\n",
      " [ 9 10 11 12]]\n"
     ]
    }
   ],
   "source": [
    "array = np.arange(1, 13)\n",
    "reshaped_array = array.reshape(3, 4)\n",
    "\n",
    "print(array)\n",
    "print()\n",
    "print(reshaped_array)"
   ]
  },
  {
   "cell_type": "code",
   "execution_count": 6,
   "metadata": {},
   "outputs": [
    {
     "name": "stdout",
     "output_type": "stream",
     "text": [
      "[ 1  2  3  4  5  6  7  8  9 10 11 12]\n",
      "\n",
      "[12 11 10  9  8  7  6  5  4  3  2  1]\n"
     ]
    }
   ],
   "source": [
    "reversed_array = array[::-1]\n",
    "print(array)\n",
    "print()\n",
    "print(reversed_array)"
   ]
  },
  {
   "cell_type": "code",
   "execution_count": 7,
   "metadata": {},
   "outputs": [
    {
     "name": "stdout",
     "output_type": "stream",
     "text": [
      "[[11 24 45]\n",
      " [90 77 81]\n",
      " [29 31 49]]\n"
     ]
    }
   ],
   "source": [
    "print(matrix)"
   ]
  },
  {
   "cell_type": "code",
   "execution_count": 8,
   "metadata": {},
   "outputs": [
    {
     "name": "stdout",
     "output_type": "stream",
     "text": [
      "[11 24 45 90 77 81 29 31 49]\n"
     ]
    }
   ],
   "source": [
    "flattened_matrix = matrix.flatten()\n",
    "print(flattened_matrix)"
   ]
  }
 ],
 "metadata": {
  "kernelspec": {
   "display_name": "venv",
   "language": "python",
   "name": "python3"
  },
  "language_info": {
   "codemirror_mode": {
    "name": "ipython",
    "version": 3
   },
   "file_extension": ".py",
   "mimetype": "text/x-python",
   "name": "python",
   "nbconvert_exporter": "python",
   "pygments_lexer": "ipython3",
   "version": "3.12.4"
  }
 },
 "nbformat": 4,
 "nbformat_minor": 2
}
