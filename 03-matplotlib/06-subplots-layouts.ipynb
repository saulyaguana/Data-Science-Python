{
 "cells": [
  {
   "cell_type": "code",
   "execution_count": 1,
   "metadata": {},
   "outputs": [],
   "source": [
    "import numpy as np\n",
    "import matplotlib.pyplot as plt\n",
    "import matplotlib.gridspec as gridspec"
   ]
  },
  {
   "cell_type": "markdown",
   "metadata": {},
   "source": [
    "Many times is necessary show multiple graphics in a single figure.\n",
    "\n",
    "To make this we use subplots and layouts in matplotlib."
   ]
  },
  {
   "cell_type": "code",
   "execution_count": 2,
   "metadata": {},
   "outputs": [],
   "source": [
    "x = np.linspace(0, 10, 100)\n",
    "y = np.sin(x)\n",
    "\n",
    "data = np.random.rand(100)"
   ]
  },
  {
   "cell_type": "code",
   "execution_count": 6,
   "metadata": {},
   "outputs": [
    {
     "data": {
      "text/plain": [
       "<Figure size 1000x800 with 0 Axes>"
      ]
     },
     "metadata": {},
     "output_type": "display_data"
    }
   ],
   "source": [
    "gs = gridspec.GridSpec(2, 2, height_ratios=[2,1], width_ratios=[1,1])\n",
    "fig = plt.figure(figsize=(10, 8))"
   ]
  },
  {
   "cell_type": "code",
   "execution_count": 10,
   "metadata": {},
   "outputs": [
    {
     "data": {
      "text/plain": [
       "<Figure size 640x480 with 0 Axes>"
      ]
     },
     "metadata": {},
     "output_type": "display_data"
    }
   ],
   "source": [
    "# first subplot | all first row\n",
    "ax1 = fig.add_subplot(gs[0,:])\n",
    "ax1.plot(x, y, color=\"blue\")\n",
    "ax1.set_title(\"Sin X\")\n",
    "ax1.set_ylabel(\"sin(x)\")\n",
    "ax1.set_xlabel(\"X\")\n",
    "\n",
    "# second subplot | lower left corner\n",
    "ax2 = fig.add_subplot(gs[1, 0])\n",
    "ax2.hist(data, bins=20, color=\"purple\", edgecolor=\"black\")\n",
    "ax1.set_title(\"Histogram\")\n",
    "ax1.set_ylabel(\"Frequency\")\n",
    "ax1.set_xlabel(\"Value\")\n",
    "\n",
    "# third plot | right lower corner\n",
    "ax3 = fig.add_subplot(gs[1, 1])\n",
    "ax3.scatter(x, y, color=\"red\")\n",
    "ax1.set_title(\"Sin dispersion\")\n",
    "ax1.set_ylabel(\"Frequency\")\n",
    "ax1.set_xlabel(\"X\")\n",
    "\n",
    "# SHOW\n",
    "plt.tight_layout()\n",
    "plt.show()"
   ]
  }
 ],
 "metadata": {
  "kernelspec": {
   "display_name": "venv",
   "language": "python",
   "name": "python3"
  },
  "language_info": {
   "codemirror_mode": {
    "name": "ipython",
    "version": 3
   },
   "file_extension": ".py",
   "mimetype": "text/x-python",
   "name": "python",
   "nbconvert_exporter": "python",
   "pygments_lexer": "ipython3",
   "version": "3.12.4"
  }
 },
 "nbformat": 4,
 "nbformat_minor": 2
}
